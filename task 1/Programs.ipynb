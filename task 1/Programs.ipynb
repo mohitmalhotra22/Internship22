{
 "cells": [
  {
   "cell_type": "code",
   "execution_count": null,
   "id": "18c046a9",
   "metadata": {},
   "outputs": [],
   "source": [
    "Question 1 - (C)"
   ]
  },
  {
   "cell_type": "code",
   "execution_count": null,
   "id": "fe56a908",
   "metadata": {},
   "outputs": [],
   "source": [
    "Question 2 - (B)"
   ]
  },
  {
   "cell_type": "code",
   "execution_count": 3,
   "id": "244a0103",
   "metadata": {},
   "outputs": [
    {
     "data": {
      "text/plain": [
       "True"
      ]
     },
     "execution_count": 3,
     "metadata": {},
     "output_type": "execute_result"
    }
   ],
   "source": [
    " 2//3 "
   ]
  },
  {
   "cell_type": "code",
   "execution_count": null,
   "id": "89264bab",
   "metadata": {},
   "outputs": [],
   "source": [
    "Question 3 - (C)"
   ]
  },
  {
   "cell_type": "code",
   "execution_count": 5,
   "id": "c6551a5d",
   "metadata": {},
   "outputs": [
    {
     "data": {
      "text/plain": [
       "24"
      ]
     },
     "execution_count": 5,
     "metadata": {},
     "output_type": "execute_result"
    }
   ],
   "source": [
    "6<<2# "
   ]
  },
  {
   "cell_type": "code",
   "execution_count": null,
   "id": "2d5a131a",
   "metadata": {},
   "outputs": [],
   "source": [
    "Question 4 - (A)"
   ]
  },
  {
   "cell_type": "code",
   "execution_count": 6,
   "id": "44d95406",
   "metadata": {},
   "outputs": [
    {
     "data": {
      "text/plain": [
       "2"
      ]
     },
     "execution_count": 6,
     "metadata": {},
     "output_type": "execute_result"
    }
   ],
   "source": [
    "6&2 "
   ]
  },
  {
   "cell_type": "code",
   "execution_count": null,
   "id": "ac0b649c",
   "metadata": {},
   "outputs": [],
   "source": [
    "Question 5 - (D)"
   ]
  },
  {
   "cell_type": "code",
   "execution_count": 7,
   "id": "ed4bfdfe",
   "metadata": {},
   "outputs": [
    {
     "data": {
      "text/plain": [
       "6"
      ]
     },
     "execution_count": 7,
     "metadata": {},
     "output_type": "execute_result"
    }
   ],
   "source": [
    "6|2  "
   ]
  },
  {
   "cell_type": "code",
   "execution_count": null,
   "id": "d2fe951d",
   "metadata": {},
   "outputs": [],
   "source": [
    "Question 6 - (C)"
   ]
  },
  {
   "cell_type": "code",
   "execution_count": null,
   "id": "9dcac088",
   "metadata": {},
   "outputs": [],
   "source": [
    "Question 7 - (A)"
   ]
  },
  {
   "cell_type": "code",
   "execution_count": null,
   "id": "757b50d7",
   "metadata": {},
   "outputs": [],
   "source": [
    "Question 8 - (C)"
   ]
  },
  {
   "cell_type": "code",
   "execution_count": null,
   "id": "afe3ef22",
   "metadata": {},
   "outputs": [],
   "source": [
    "Question 9 -(A),(c)"
   ]
  },
  {
   "cell_type": "code",
   "execution_count": 10,
   "id": "e98b8741",
   "metadata": {},
   "outputs": [],
   "source": [
    "#_abc=2\n",
    "#1abc=0\n",
    "abc2 = 0"
   ]
  },
  {
   "cell_type": "code",
   "execution_count": null,
   "id": "88e661f3",
   "metadata": {},
   "outputs": [],
   "source": [
    "Question 10 - (A), (B)"
   ]
  },
  {
   "cell_type": "markdown",
   "id": "d81a0e06",
   "metadata": {},
   "source": [
    "# 11. Write a python program to find the factorial of a number"
   ]
  },
  {
   "cell_type": "code",
   "execution_count": null,
   "id": "83d0d0e1",
   "metadata": {},
   "outputs": [],
   "source": []
  },
  {
   "cell_type": "code",
   "execution_count": 17,
   "id": "b458a396",
   "metadata": {},
   "outputs": [
    {
     "name": "stdout",
     "output_type": "stream",
     "text": [
      "The factorial of 3 is 6\n"
     ]
    }
   ],
   "source": [
    "# Python program to find the factorial of a number provided by the user.\n",
    "\n",
    "# change the value for a different result\n",
    "num = 3\n",
    "\n",
    "# To take input from the user\n",
    "#num = int(input(\"Enter a number: \"))\n",
    "\n",
    "factorial = 1\n",
    "\n",
    "# check if the number is negative, positive or zero\n",
    "if num < 0:\n",
    "    print(\"Sorry, factorial does not exist for negative numbers\")\n",
    "elif num == 0:\n",
    "    print(\"The factorial of 0 is 1\")\n",
    "else:\n",
    "    for i in range(1,num + 1):\n",
    "        factorial = factorial*i\n",
    "    print(\"The factorial of {} is {}\".format(num,factorial))\n"
   ]
  },
  {
   "cell_type": "markdown",
   "id": "4fdfb352",
   "metadata": {},
   "source": [
    "# 12. Write a python program to find whether a number is prime or composite.\n"
   ]
  },
  {
   "cell_type": "code",
   "execution_count": 23,
   "id": "5b125fd9",
   "metadata": {},
   "outputs": [
    {
     "name": "stdout",
     "output_type": "stream",
     "text": [
      "Enter any number : 4\n",
      "4 is NOT a prime number\n"
     ]
    }
   ],
   "source": [
    "num = int(input(\"Enter any number : \"))\n",
    "if num > 1:\n",
    "    for i in range(2, num):\n",
    "        if (num % i) == 0:\n",
    "            print(num, \"is NOT a prime number\")\n",
    "            break\n",
    "    else:\n",
    "        \n",
    "        print(num, \"is a PRIME number\")\n",
    "elif num == 0 or 1:\n",
    "    print(num, \"is a neither prime NOR composite number\")\n",
    "else:\n",
    "    print(num, \"is NOT a prime number it is a COMPOSITE number\")"
   ]
  },
  {
   "cell_type": "markdown",
   "id": "0b5466b6",
   "metadata": {},
   "source": [
    "# 13. Write a python program to check whether a given string is palindrome or not"
   ]
  },
  {
   "cell_type": "code",
   "execution_count": 29,
   "id": "7e199e98",
   "metadata": {},
   "outputs": [
    {
     "name": "stdout",
     "output_type": "stream",
     "text": [
      "Enter a string : malayalam\n",
      "The given malayalam string is a palindrome.\n"
     ]
    }
   ],
   "source": [
    "# Program to check if a string is palindrome or not\n",
    "\n",
    "my_str = str(input(\"Enter a string : \"))\n",
    "\n",
    "# make it suitable for caseless comparison\n",
    "my_str = my_str.casefold()\n",
    "\n",
    "# reverse the string\n",
    "rev_str = reversed(my_str)\n",
    "\n",
    "# check if the string is equal to its reverse\n",
    "if list(my_str) == list(rev_str):\n",
    "    print(\"The given {} string is a palindrome.\".format(my_str))\n",
    "else:\n",
    "    print(\"The given {} string is not a palindrome.\".format(my_str))\n"
   ]
  },
  {
   "cell_type": "markdown",
   "id": "191b66cb",
   "metadata": {},
   "source": [
    "# 14. Write a Python program to get the third side of right-angled triangle from two given sides."
   ]
  },
  {
   "cell_type": "code",
   "execution_count": 33,
   "id": "6b7f3191",
   "metadata": {},
   "outputs": [
    {
     "name": "stdout",
     "output_type": "stream",
     "text": [
      "Hypotenuse = 5.0\n",
      "Adjacent = 4.0\n",
      "Opposite = 3.0\n",
      "You know the answer!\n"
     ]
    }
   ],
   "source": [
    "def pythagoras(opposite_side,adjacent_side,hypotenuse):\n",
    "        if opposite_side == str(\"x\"):\n",
    "            return (\"Opposite = \" + str(((hypotenuse**2) - (adjacent_side**2))**0.5))\n",
    "        elif adjacent_side == str(\"x\"):\n",
    "            return (\"Adjacent = \" + str(((hypotenuse**2) - (opposite_side**2))**0.5))\n",
    "        elif hypotenuse == str(\"x\"):\n",
    "            return (\"Hypotenuse = \" + str(((opposite_side**2) + (adjacent_side**2))**0.5))\n",
    "        else:\n",
    "            return \"You know the answer!\"\n",
    "    \n",
    "print(pythagoras(3,4,'x'))\n",
    "print(pythagoras(3,'x',5))\n",
    "print(pythagoras('x',4,5))\n",
    "print(pythagoras(3,4,5))"
   ]
  },
  {
   "cell_type": "markdown",
   "id": "b80c37be",
   "metadata": {},
   "source": [
    "# 15. Write a python program to print the frequency of each of the characters present in a given string"
   ]
  },
  {
   "cell_type": "code",
   "execution_count": 36,
   "id": "1f9df174",
   "metadata": {},
   "outputs": [
    {
     "name": "stdout",
     "output_type": "stream",
     "text": [
      "Count of all characters in GeeksforGeeks is :\n",
      " Counter({'e': 4, 'G': 2, 'k': 2, 's': 2, 'f': 1, 'o': 1, 'r': 1})\n"
     ]
    }
   ],
   "source": [
    "# Python3 code to demonstrate\n",
    "# each occurrence frequency using\n",
    "# collections.Counter()\n",
    "from collections import Counter\n",
    "\n",
    "# initializing string\n",
    "test_str = \"GeeksforGeeks\"\n",
    "\n",
    "# using collections.Counter() to get\n",
    "# count of each element in string\n",
    "res = Counter(test_str)\n",
    "\n",
    "# printing result\n",
    "print (\"Count of all characters in GeeksforGeeks is :\\n \"+str(res))\n"
   ]
  },
  {
   "cell_type": "code",
   "execution_count": null,
   "id": "ef6535bd",
   "metadata": {},
   "outputs": [],
   "source": []
  }
 ],
 "metadata": {
  "kernelspec": {
   "display_name": "Python 3",
   "language": "python",
   "name": "python3"
  },
  "language_info": {
   "codemirror_mode": {
    "name": "ipython",
    "version": 3
   },
   "file_extension": ".py",
   "mimetype": "text/x-python",
   "name": "python",
   "nbconvert_exporter": "python",
   "pygments_lexer": "ipython3",
   "version": "3.8.8"
  }
 },
 "nbformat": 4,
 "nbformat_minor": 5
}
